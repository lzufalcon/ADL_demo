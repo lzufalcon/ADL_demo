{
 "cells": [
  {
   "cell_type": "code",
   "execution_count": 2,
   "metadata": {
    "collapsed": true
   },
   "outputs": [],
   "source": [
    "#importing stuff\n",
    "from io import StringIO\n",
    "import numpy as np\n",
    "import scipy as sp\n",
    "import os\n",
    "import matplotlib.pyplot as plt\n",
    "from scipy import signal\n",
    "from mpl_toolkits.mplot3d import Axes3D"
   ]
  },
  {
   "cell_type": "code",
   "execution_count": 2,
   "metadata": {
    "collapsed": true
   },
   "outputs": [],
   "source": [
    "sample_rate = 32 #Hz\n",
    "sensor_min = -1.5 * 9.8 #g\n",
    "sensor_max =  1.5 * 9.8 #g\n",
    "sample_res = 63\n",
    "\n",
    "def normalData(_data):\n",
    "    data = sensor_min + (_data/sample_res) * (sensor_max - sensor_min)\n",
    "    return data"
   ]
  },
  {
   "cell_type": "code",
   "execution_count": 3,
   "metadata": {
    "collapsed": true
   },
   "outputs": [],
   "source": [
    "#%ls HMP_Dataset/Walk/\n",
    "def parseAdlTxt(file):\n",
    "    #s = \"HMP_Dataset/Walk/Accelerometer-2011-03-24-09-51-07-walk-f1.txt\"\n",
    "    data = np.genfromtxt(file, dtype=np.float32, delimiter=\" \")\n",
    "    #normalize data here\n",
    "    return data"
   ]
  },
  {
   "cell_type": "code",
   "execution_count": 4,
   "metadata": {
    "collapsed": true
   },
   "outputs": [],
   "source": [
    "def getRecordsFromTxt(folderPath):\n",
    "    for root, dirs, files in os.walk(folderPath, topdown=False):\n",
    "#         print(root)\n",
    "#         print(dirs)\n",
    "        prev_shape = None\n",
    "        records = [] #append a list\n",
    "        for name in files:\n",
    "            data = normalData(parseAdlTxt(os.path.join(root, name)))\n",
    "\n",
    "#             if(prev_shape != None and prev_shape != data.shape):\n",
    "#                 print(\"Error: data sample length not uniform \", data.shape)\n",
    "#                 exit(-1)\n",
    "#             else:\n",
    "#                 prev_shape = data.shape\n",
    "\n",
    "            records.append(data)\n",
    "            #print(name, data.shape)\n",
    "    return records"
   ]
  },
  {
   "cell_type": "code",
   "execution_count": 5,
   "metadata": {
    "collapsed": true
   },
   "outputs": [],
   "source": [
    "records = getRecordsFromTxt(\"HMP_Dataset/Walk/\")\n",
    "# print(records[0].shape[0])\n",
    "#print(np.round(0.6))\n",
    "#https://www.programcreek.com/python/example/100533/scipy.signal.medfilt\n",
    "# r = sp.signal.medfilt(records[0], 7)\n",
    "# print(r.shape)\n",
    "def applyFil(records, med_size, resample_rate):\n",
    "    resample_factor = resample_rate / sample_rate\n",
    "    for i, r in enumerate(records):\n",
    "        resample_length = np.ceil(resample_factor * r.shape[0])\n",
    "        r = sp.signal.medfilt(r, med_size)\n",
    "        r = sp.signal.resample(r, resample_length.astype(np.int32))\n",
    "        records[i] = r\n",
    "\n",
    "    return records"
   ]
  },
  {
   "cell_type": "code",
   "execution_count": 6,
   "metadata": {
    "collapsed": true
   },
   "outputs": [],
   "source": [
    "# records = getRecordsFromTxt(\"HMP_Dataset/Walk/\")\n",
    "# print(len(records))\n",
    "#print(np.random.randint(0,3))\n",
    "def randSegFromRecords(records, seg_length):\n",
    "    rand_r_index = np.random.randint(0, len(records))\n",
    "    r = records[rand_r_index]\n",
    "    #print(\"r \", r.shape)\n",
    "    if(seg_length > r.shape[0]):\n",
    "        print(\"desired segment length exceeds sample length\")\n",
    "        exit()\n",
    "    seg_start = np.random.randint(0, np.maximum(r.shape[0] - seg_length, 1))\n",
    "    #print(\"seg_start \", seg_start)\n",
    "    r_slice = r[seg_start:(seg_start + seg_length)]\n",
    "    #print(\"seg_start + seg_length \", seg_start + seg_length)\n",
    "    #print(\"r_slice \", r_slice.shape)\n",
    "    \n",
    "    return r_slice"
   ]
  },
  {
   "cell_type": "code",
   "execution_count": 7,
   "metadata": {
    "collapsed": true,
    "scrolled": false
   },
   "outputs": [],
   "source": [
    "def sampleMeanShift3DPlot(data):\n",
    "    x = np.linspace(0,0,1)\n",
    "    y = np.linspace(0,0,1)\n",
    "    z = np.linspace(0, data.shape[0], data.shape[0])\n",
    "\n",
    "    x,y,z = np.meshgrid(x,y,z)\n",
    "\n",
    "    fig = plt.figure()\n",
    "    ax = fig.gca(projection='3d')\n",
    "\n",
    "    data = np.swapaxes(data, 0, 1)\n",
    "    [bx, by, bz] = data\n",
    "    bx = bx - np.mean(bx)\n",
    "    by = by - np.mean(by)\n",
    "    bz = bz - np.mean(bz)\n",
    "\n",
    "\n",
    "    #normalize sample-z for plotting\n",
    "    z_min = np.min(bz)\n",
    "    z_max = np.max(bz)\n",
    "    z_norm_factor = 1 / (z_max - z_min)\n",
    "\n",
    "    bz = (bz * z_norm_factor) + z\n",
    "    #bz = 0\n",
    "\n",
    "    ax.quiver(x,y,z,bx,by,bz,color='b',length=0.5,normalize=True)\n",
    "    plt.title('Walking accelerometer data')\n",
    "    plt.xlabel('x')\n",
    "    plt.ylabel('y')\n",
    "\n",
    "    plt.show()"
   ]
  },
  {
   "cell_type": "code",
   "execution_count": 8,
   "metadata": {
    "collapsed": true
   },
   "outputs": [],
   "source": [
    "def sampleMeanShiftPlot(data, sample_rate):\n",
    "    \n",
    "    t = np.arange(0, data.shape[0] / sample_rate, 1 / sample_rate)\n",
    "\n",
    "    data = np.swapaxes(data, 0, 1)\n",
    "    [bx, by, bz] = data\n",
    "    bx = bx - np.mean(bx)\n",
    "    by = by - np.mean(by)\n",
    "    bz = bz - np.mean(bz)\n",
    "    \n",
    "\n",
    "    fig = plt.figure()\n",
    "    plt.subplot(311)\n",
    "    plt.plot(t, bx, 'bo')\n",
    "    plt.title('x')\n",
    "\n",
    "    plt.subplot(312)\n",
    "    plt.plot(t, by, 'bo')\n",
    "    plt.title('y')\n",
    "    \n",
    "    plt.subplot(313)\n",
    "    plt.plot(t, bz, 'bo')\n",
    "    plt.title('z')"
   ]
  },
  {
   "cell_type": "code",
   "execution_count": 9,
   "metadata": {},
   "outputs": [
    {
     "name": "stdout",
     "output_type": "stream",
     "text": [
      "data x y z max -7.043138189239251 4.945170020316483 2.622107313039903\n",
      "data x y z min -11.72814410356444 2.08803193236175 -1.0824413180296217\n"
     ]
    },
    {
     "data": {
      "image/png": "[encoded data removed]",
      "text/plain": [
       "<Figure size 432x288 with 3 Axes>"
      ]
     },
     "metadata": {},
     "output_type": "display_data"
    }
   ],
   "source": [
    "resample_rate = 30\n",
    "sample_period = 5 #seconds\n",
    "records = getRecordsFromTxt(\"HMP_Dataset/Walk/\")\n",
    "records = applyFil(records, 1, resample_rate)\n",
    "data = randSegFromRecords(records, resample_rate * sample_period)\n",
    "#print(data[:,0])\n",
    "sampleMeanShiftPlot(data, resample_rate)\n",
    "print(\"data x y z max\", np.max(data[:,0]), np.max(data[:,1]), np.max(data[:,2]))\n",
    "print(\"data x y z min\", np.min(data[:,0]), np.min(data[:,1]), np.min(data[:,2]))\n",
    "#TODO plot x y z separately"
   ]
  },
  {
   "cell_type": "code",
   "execution_count": 11,
   "metadata": {
    "collapsed": true
   },
   "outputs": [],
   "source": [
    "def samplePlot(data, sample_rate):\n",
    "    \n",
    "    t = np.arange(0, data.shape[0] / sample_rate, 1 / sample_rate)\n",
    "\n",
    "    data = np.swapaxes(data, 0, 1)\n",
    "    [bx, by, bz] = data\n",
    "\n",
    "    fig = plt.figure()\n",
    "    plt.subplot(311)\n",
    "    plt.plot(t, bx, 'bo')\n",
    "    plt.title('x')\n",
    "\n",
    "    plt.subplot(312)\n",
    "    plt.plot(t, by, 'bo')\n",
    "    plt.title('y')\n",
    "    \n",
    "    plt.subplot(313)\n",
    "    plt.plot(t, bz, 'bo')\n",
    "    plt.title('z')"
   ]
  },
  {
   "cell_type": "code",
   "execution_count": 12,
   "metadata": {},
   "outputs": [
    {
     "data": {
      "image/png": "[encoded data removed]",
      "text/plain": [
       "<Figure size 432x288 with 3 Axes>"
      ]
     },
     "metadata": {},
     "output_type": "display_data"
    }
   ],
   "source": [
    "samplePlot(data, resample_rate)"
   ]
  },
  {
   "cell_type": "code",
   "execution_count": 14,
   "metadata": {},
   "outputs": [
    {
     "data": {
      "text/plain": [
       "array([0.82131558, 0.4725537 , 0.31958365])"
      ]
     },
     "execution_count": 14,
     "metadata": {},
     "output_type": "execute_result"
    }
   ],
   "source": [
    "## Generating resting data\n",
    "## x^2 + b^2 + c^2 = 1\n",
    "## x, y, z all scaled by alpha s.t.\n",
    "## (alpha*x)^2 + (alpha*x)^2 + (alpha*x)^2 = 1\n",
    "## alpha = (x^2 + b^2 + c^2)^0.5\n",
    "\n",
    "rand_vect = np.random.rand(3)\n",
    "rand_vect_tmp = np.square(rand_vect)\n",
    "rand_vect_tmp = np.sum(rand_vect_tmp)\n",
    "alpha = np.power(rand_vect_tmp, -0.5)\n",
    "rand_vect = rand_vect * alpha\n",
    "#np.sum(np.power(rand_vect, 2))\n",
    "fake_acc_data = \n",
    "print '{0:2d} {1:3d} {2:4d}'.format(rand_vect[0], rand_vect[1], rand_vect[2])\n",
    "rand_vect"
   ]
  },
  {
   "cell_type": "code",
   "execution_count": null,
   "metadata": {
    "collapsed": true
   },
   "outputs": [],
   "source": []
  }
 ],
 "metadata": {
  "kernelspec": {
   "display_name": "ut",
   "language": "python",
   "name": "ut"
  },
  "language_info": {
   "codemirror_mode": {
    "name": "ipython",
    "version": 3
   },
   "file_extension": ".py",
   "mimetype": "text/x-python",
   "name": "python",
   "nbconvert_exporter": "python",
   "pygments_lexer": "ipython3",
   "version": "3.6.4"
  }
 },
 "nbformat": 4,
 "nbformat_minor": 2
}
