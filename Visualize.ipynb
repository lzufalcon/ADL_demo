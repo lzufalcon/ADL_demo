{
 "cells": [
  {
   "cell_type": "code",
   "execution_count": 30,
   "metadata": {},
   "outputs": [],
   "source": [
    "#importing stuff\n",
    "from io import StringIO\n",
    "import numpy as np\n",
    "import os"
   ]
  },
  {
   "cell_type": "code",
   "execution_count": null,
   "metadata": {
    "collapsed": true
   },
   "outputs": [],
   "source": [
    "sample_rate = 32 #Hz\n",
    "sensor_min = -1.5 #g\n",
    "sensor_max =  1.5 #g\n",
    "sample_res = 63\n",
    "\n",
    "def normalData(_data):\n",
    "    data = -sensor_min + (_data/sample_res) * (sensor_max - sensor_min)\n",
    "    return data"
   ]
  },
  {
   "cell_type": "code",
   "execution_count": 31,
   "metadata": {},
   "outputs": [],
   "source": [
    "#%ls HMP_Dataset/Walk/\n",
    "def parseAdlTxt(file):\n",
    "    s = \"HMP_Dataset/Walk/Accelerometer-2011-03-24-09-51-07-walk-f1.txt\"\n",
    "    data = np.genfromtxt(s, dtype=np.float32, delimiter=\" \")\n",
    "    #normalize data here\n",
    "    return data"
   ]
  },
  {
   "cell_type": "code",
   "execution_count": 47,
   "metadata": {},
   "outputs": [
    {
     "name": "stdout",
     "output_type": "stream",
     "text": [
      "Accelerometer-2011-03-24-09-51-07-walk-f1.txt (1170, 3)\n",
      "Accelerometer-2011-03-24-09-52-11-walk-f1.txt (1170, 3)\n",
      "Accelerometer-2011-03-24-10-58-34-walk-f1.txt (1170, 3)\n",
      "Accelerometer-2011-03-24-11-20-24-walk-f1.txt (1170, 3)\n",
      "Accelerometer-2011-03-24-11-21-13-walk-f1.txt (1170, 3)\n",
      "Accelerometer-2011-03-29-16-16-01-walk-f1.txt (1170, 3)\n",
      "Accelerometer-2011-04-05-18-30-57-walk-f1.txt (1170, 3)\n",
      "Accelerometer-2011-04-11-11-55-57-walk-f1.txt (1170, 3)\n",
      "Accelerometer-2011-05-30-08-29-07-walk-f1.txt (1170, 3)\n",
      "Accelerometer-2011-05-30-09-35-03-walk-f1.txt (1170, 3)\n",
      "Accelerometer-2011-05-30-10-29-28-walk-m1.txt (1170, 3)\n",
      "Accelerometer-2011-05-30-20-51-03-walk-f1.txt (1170, 3)\n",
      "Accelerometer-2011-05-30-20-57-19-walk-f1.txt (1170, 3)\n",
      "Accelerometer-2011-05-30-21-01-39-walk-f1.txt (1170, 3)\n",
      "Accelerometer-2011-05-30-21-34-15-walk-m2.txt (1170, 3)\n",
      "Accelerometer-2011-05-30-21-39-55-walk-m2.txt (1170, 3)\n",
      "Accelerometer-2011-05-30-21-44-35-walk-m2.txt (1170, 3)\n",
      "Accelerometer-2011-05-31-14-54-41-walk-f1.txt (1170, 3)\n",
      "Accelerometer-2011-05-31-15-01-05-walk-f1.txt (1170, 3)\n",
      "Accelerometer-2011-05-31-15-05-44-walk-f1.txt (1170, 3)\n",
      "Accelerometer-2011-05-31-16-23-32-walk-f1.txt (1170, 3)\n",
      "Accelerometer-2011-05-31-16-28-55-walk-f1.txt (1170, 3)\n",
      "Accelerometer-2011-05-31-16-32-12-walk-f1.txt (1170, 3)\n",
      "Accelerometer-2012-05-29-16-45-30-walk-f2.txt (1170, 3)\n",
      "Accelerometer-2012-05-29-16-46-02-walk-f2.txt (1170, 3)\n",
      "Accelerometer-2012-05-29-16-51-03-walk-f2.txt (1170, 3)\n",
      "Accelerometer-2012-05-29-16-51-40-walk-f2.txt (1170, 3)\n",
      "Accelerometer-2012-05-29-17-13-45-walk-m3.txt (1170, 3)\n",
      "Accelerometer-2012-05-29-17-15-15-walk-m3.txt (1170, 3)\n",
      "Accelerometer-2012-05-29-17-16-24-walk-m3.txt (1170, 3)\n",
      "Accelerometer-2012-05-29-17-18-55-walk-m3.txt (1170, 3)\n",
      "Accelerometer-2012-05-30-18-28-32-walk-f3.txt (1170, 3)\n",
      "Accelerometer-2012-05-30-18-29-02-walk-f3.txt (1170, 3)\n",
      "Accelerometer-2012-05-30-18-29-35-walk-f3.txt (1170, 3)\n",
      "Accelerometer-2012-05-30-18-30-08-walk-f3.txt (1170, 3)\n",
      "Accelerometer-2012-05-30-19-09-54-walk-m4.txt (1170, 3)\n",
      "Accelerometer-2012-05-30-19-10-27-walk-m4.txt (1170, 3)\n",
      "Accelerometer-2012-05-30-19-10-56-walk-m4.txt (1170, 3)\n",
      "Accelerometer-2012-05-30-19-11-27-walk-m4.txt (1170, 3)\n",
      "Accelerometer-2012-05-30-22-02-42-walk-m2.txt (1170, 3)\n",
      "Accelerometer-2012-05-30-22-03-03-walk-m2.txt (1170, 3)\n",
      "Accelerometer-2012-05-30-22-03-27-walk-m2.txt (1170, 3)\n",
      "Accelerometer-2012-05-30-22-03-52-walk-m2.txt (1170, 3)\n",
      "Accelerometer-2012-05-30-22-04-20-walk-m2.txt (1170, 3)\n",
      "Accelerometer-2012-06-06-08-56-33-walk-m5.txt (1170, 3)\n",
      "Accelerometer-2012-06-06-08-57-26-walk-m5.txt (1170, 3)\n",
      "Accelerometer-2012-06-06-08-58-20-walk-m5.txt (1170, 3)\n",
      "Accelerometer-2012-06-06-08-59-00-walk-m5.txt (1170, 3)\n",
      "Accelerometer-2012-06-06-09-02-06-walk-m5.txt (1170, 3)\n",
      "Accelerometer-2012-06-06-09-02-54-walk-m5.txt (1170, 3)\n",
      "Accelerometer-2012-06-06-09-03-57-walk-m5.txt (1170, 3)\n",
      "Accelerometer-2012-06-06-09-04-41-walk-m5.txt (1170, 3)\n",
      "Accelerometer-2012-06-06-09-07-30-walk-m5.txt (1170, 3)\n",
      "Accelerometer-2012-06-06-09-08-19-walk-m5.txt (1170, 3)\n",
      "Accelerometer-2012-06-06-09-09-21-walk-m5.txt (1170, 3)\n",
      "Accelerometer-2012-06-06-09-10-02-walk-m5.txt (1170, 3)\n",
      "Accelerometer-2012-06-06-09-34-20-walk-m6.txt (1170, 3)\n",
      "Accelerometer-2012-06-06-09-35-07-walk-m6.txt (1170, 3)\n",
      "Accelerometer-2012-06-06-09-36-06-walk-m6.txt (1170, 3)\n",
      "Accelerometer-2012-06-06-09-36-38-walk-m6.txt (1170, 3)\n",
      "Accelerometer-2012-06-06-09-39-47-walk-m6.txt (1170, 3)\n",
      "Accelerometer-2012-06-06-09-40-33-walk-m6.txt (1170, 3)\n",
      "Accelerometer-2012-06-06-09-41-32-walk-m6.txt (1170, 3)\n",
      "Accelerometer-2012-06-06-09-42-05-walk-m6.txt (1170, 3)\n",
      "Accelerometer-2012-06-06-09-45-03-walk-m6.txt (1170, 3)\n",
      "Accelerometer-2012-06-06-09-45-38-walk-m6.txt (1170, 3)\n",
      "Accelerometer-2012-06-06-09-46-31-walk-m6.txt (1170, 3)\n",
      "Accelerometer-2012-06-06-09-47-07-walk-m6.txt (1170, 3)\n",
      "Accelerometer-2012-06-06-14-06-10-walk-m7.txt (1170, 3)\n",
      "Accelerometer-2012-06-06-14-06-43-walk-m7.txt (1170, 3)\n",
      "Accelerometer-2012-06-06-14-07-41-walk-m7.txt (1170, 3)\n",
      "Accelerometer-2012-06-06-14-08-12-walk-m7.txt (1170, 3)\n",
      "Accelerometer-2012-06-06-14-10-02-walk-m7.txt (1170, 3)\n",
      "Accelerometer-2012-06-06-14-10-33-walk-m7.txt (1170, 3)\n",
      "Accelerometer-2012-06-06-14-11-30-walk-m7.txt (1170, 3)\n",
      "Accelerometer-2012-06-06-14-12-00-walk-m7.txt (1170, 3)\n",
      "Accelerometer-2012-06-06-14-13-56-walk-m7.txt (1170, 3)\n",
      "Accelerometer-2012-06-06-14-14-27-walk-m7.txt (1170, 3)\n",
      "Accelerometer-2012-06-06-14-15-25-walk-m7.txt (1170, 3)\n",
      "Accelerometer-2012-06-06-14-15-57-walk-m7.txt (1170, 3)\n",
      "Accelerometer-2012-06-07-10-50-09-walk-f1.txt (1170, 3)\n",
      "Accelerometer-2012-06-07-10-50-42-walk-f1.txt (1170, 3)\n",
      "Accelerometer-2012-06-07-10-52-14-walk-f1.txt (1170, 3)\n",
      "Accelerometer-2012-06-07-10-52-46-walk-f1.txt (1170, 3)\n",
      "Accelerometer-2012-06-07-10-55-33-walk-f1.txt (1170, 3)\n",
      "Accelerometer-2012-06-07-10-57-12-walk-f1.txt (1170, 3)\n",
      "Accelerometer-2012-06-07-10-57-45-walk-f1.txt (1170, 3)\n",
      "Accelerometer-2012-06-11-11-23-05-walk-m1.txt (1170, 3)\n",
      "Accelerometer-2012-06-11-11-30-57-walk-m1.txt (1170, 3)\n",
      "Accelerometer-2012-06-11-11-31-42-walk-m1.txt (1170, 3)\n",
      "Accelerometer-2012-06-11-11-32-28-walk-m1.txt (1170, 3)\n",
      "Accelerometer-2012-06-11-11-33-07-walk-m1.txt (1170, 3)\n",
      "Accelerometer-2012-06-11-11-33-42-walk-m1.txt (1170, 3)\n",
      "Accelerometer-2012-06-11-11-34-18-walk-m1.txt (1170, 3)\n",
      "Accelerometer-2012-06-11-11-36-25-walk-m1.txt (1170, 3)\n",
      "Accelerometer-2012-06-11-11-37-01-walk-m1.txt (1170, 3)\n",
      "Accelerometer-2012-06-11-11-37-36-walk-m1.txt (1170, 3)\n",
      "Accelerometer-2012-06-11-11-38-12-walk-m1.txt (1170, 3)\n",
      "Accelerometer-2012-06-11-11-38-52-walk-m1.txt (1170, 3)\n",
      "Accelerometer-2012-06-11-11-39-29-walk-m1.txt (1170, 3)\n"
     ]
    }
   ],
   "source": [
    "def getRecordsFromTxt(folderPath):\n",
    "    for root, dirs, files in os.walk(\"HMP_Dataset/Walk/\", topdown=False):\n",
    "        prev_shape = None\n",
    "        records = [] #append a list\n",
    "        for name in files:\n",
    "            data = parseAdlTxt(os.path.join(root, name))\n",
    "\n",
    "            if(prev_shape != None and prev_shape != data.shape):\n",
    "                print(\"Error: data sample length not uniform\")\n",
    "                exit(-1)\n",
    "            else:\n",
    "                prev_shape = data.shape\n",
    "\n",
    "            records.append(data)\n",
    "            #print(name, data.shape)\n",
    "    return records"
   ]
  },
  {
   "cell_type": "code",
   "execution_count": 22,
   "metadata": {},
   "outputs": [
    {
     "name": "stdout",
     "output_type": "stream",
     "text": [
      "(1170, 3)\n"
     ]
    }
   ],
   "source": [
    "print(data.shape)"
   ]
  },
  {
   "cell_type": "code",
   "execution_count": null,
   "metadata": {
    "collapsed": true
   },
   "outputs": [],
   "source": []
  }
 ],
 "metadata": {
  "kernelspec": {
   "display_name": "ut",
   "language": "python",
   "name": "ut"
  },
  "language_info": {
   "codemirror_mode": {
    "name": "ipython",
    "version": 3
   },
   "file_extension": ".py",
   "mimetype": "text/x-python",
   "name": "python",
   "nbconvert_exporter": "python",
   "pygments_lexer": "ipython3",
   "version": "3.6.4"
  }
 },
 "nbformat": 4,
 "nbformat_minor": 2
}
